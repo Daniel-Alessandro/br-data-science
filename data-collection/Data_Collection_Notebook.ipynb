{
  "nbformat": 4,
  "nbformat_minor": 0,
  "metadata": {
    "colab": {
      "name": "Data Collection Notebook.ipynb",
      "provenance": [],
      "collapsed_sections": [],
      "include_colab_link": true
    },
    "kernelspec": {
      "name": "python3",
      "display_name": "Python 3"
    }
  },
  "cells": [
    {
      "cell_type": "markdown",
      "metadata": {
        "id": "view-in-github",
        "colab_type": "text"
      },
      "source": [
        "<a href=\"https://colab.research.google.com/github/fernandoawari/br-data-science/blob/master/data-collection/Data_Collection_Notebook.ipynb\" target=\"_parent\"><img src=\"https://colab.research.google.com/assets/colab-badge.svg\" alt=\"Open In Colab\"/></a>"
      ]
    },
    {
      "cell_type": "markdown",
      "metadata": {
        "id": "hAHOpmwlyLzJ",
        "colab_type": "text"
      },
      "source": [
        "![](https://i.imgur.com/YX6UATs.png)"
      ]
    },
    {
      "cell_type": "markdown",
      "metadata": {
        "id": "U7Uwy9GdyJ3y",
        "colab_type": "text"
      },
      "source": [
        "## **Data Collection Notebook**\n",
        "\n",
        "**Esse notebook contém referências em Python, com comentários reduzidos**\n"
      ]
    },
    {
      "cell_type": "markdown",
      "metadata": {
        "id": "T6JnVOlM7Bro",
        "colab_type": "text"
      },
      "source": [
        "### **Lendo arquivos do excel**\n",
        "O pandas é um módulo\n"
      ]
    },
    {
      "cell_type": "code",
      "metadata": {
        "id": "CoXTAy0QyDym",
        "colab_type": "code",
        "colab": {}
      },
      "source": [
        "import pandas as pd #importando o pandas"
      ],
      "execution_count": 0,
      "outputs": []
    },
    {
      "cell_type": "code",
      "metadata": {
        "id": "S4gzGiUm7rtj",
        "colab_type": "code",
        "colab": {}
      },
      "source": [
        "df = pd.read_excel('arquivo.xlsx',sheet_name=\"nome_da_aba\")"
      ],
      "execution_count": 0,
      "outputs": []
    },
    {
      "cell_type": "markdown",
      "metadata": {
        "colab_type": "text",
        "id": "U8gyoOP__dbV"
      },
      "source": [
        "### **Lendo arquivos CSV**\n"
      ]
    },
    {
      "cell_type": "code",
      "metadata": {
        "id": "7pMTE7rdt1l0",
        "colab_type": "code",
        "colab": {}
      },
      "source": [
        "import pandas as pd #importando o pandas"
      ],
      "execution_count": 0,
      "outputs": []
    },
    {
      "cell_type": "code",
      "metadata": {
        "id": "iU0F1mit6LzF",
        "colab_type": "code",
        "colab": {}
      },
      "source": [
        "df = pd.read_csv('arquivo.csv')"
      ],
      "execution_count": 0,
      "outputs": []
    },
    {
      "cell_type": "markdown",
      "metadata": {
        "id": "MyALof1t1bMl",
        "colab_type": "text"
      },
      "source": [
        "É possível tanto ler arquivos que estejam em seu computador, quanto arquivos hospedados em sites. Basta modificicar o \"caminho\" para o arquuivo e inserir o link que desejar. O mesmo vale para os outros tipos de arquivo passíveis de importação."
      ]
    },
    {
      "cell_type": "code",
      "metadata": {
        "id": "HZl4B-E-1apH",
        "colab_type": "code",
        "colab": {}
      },
      "source": [
        "df = pd.read_csv('https://opendata.ecdc.europa.eu/covid19/casedistribution/csv') # Como exemplo, dados da COVID-19 importados sem necessidade de download."
      ],
      "execution_count": 0,
      "outputs": []
    },
    {
      "cell_type": "code",
      "metadata": {
        "id": "0yk6upLZ2nUH",
        "colab_type": "code",
        "outputId": "3e4ef41c-8c95-401a-b311-fc49744127a4",
        "colab": {
          "base_uri": "https://localhost:8080/",
          "height": 142
        }
      },
      "source": [
        "df.head(3) # Vizualizando as 5 primeiras linhas da tabela."
      ],
      "execution_count": 0,
      "outputs": [
        {
          "output_type": "execute_result",
          "data": {
            "text/html": [
              "<div>\n",
              "<style scoped>\n",
              "    .dataframe tbody tr th:only-of-type {\n",
              "        vertical-align: middle;\n",
              "    }\n",
              "\n",
              "    .dataframe tbody tr th {\n",
              "        vertical-align: top;\n",
              "    }\n",
              "\n",
              "    .dataframe thead th {\n",
              "        text-align: right;\n",
              "    }\n",
              "</style>\n",
              "<table border=\"1\" class=\"dataframe\">\n",
              "  <thead>\n",
              "    <tr style=\"text-align: right;\">\n",
              "      <th></th>\n",
              "      <th>dateRep</th>\n",
              "      <th>day</th>\n",
              "      <th>month</th>\n",
              "      <th>year</th>\n",
              "      <th>cases</th>\n",
              "      <th>deaths</th>\n",
              "      <th>countriesAndTerritories</th>\n",
              "      <th>geoId</th>\n",
              "      <th>countryterritoryCode</th>\n",
              "      <th>popData2018</th>\n",
              "      <th>continentExp</th>\n",
              "    </tr>\n",
              "  </thead>\n",
              "  <tbody>\n",
              "    <tr>\n",
              "      <th>0</th>\n",
              "      <td>13/06/2020</td>\n",
              "      <td>13</td>\n",
              "      <td>6</td>\n",
              "      <td>2020</td>\n",
              "      <td>656</td>\n",
              "      <td>20</td>\n",
              "      <td>Afghanistan</td>\n",
              "      <td>AF</td>\n",
              "      <td>AFG</td>\n",
              "      <td>37172386.0</td>\n",
              "      <td>Asia</td>\n",
              "    </tr>\n",
              "    <tr>\n",
              "      <th>1</th>\n",
              "      <td>12/06/2020</td>\n",
              "      <td>12</td>\n",
              "      <td>6</td>\n",
              "      <td>2020</td>\n",
              "      <td>747</td>\n",
              "      <td>21</td>\n",
              "      <td>Afghanistan</td>\n",
              "      <td>AF</td>\n",
              "      <td>AFG</td>\n",
              "      <td>37172386.0</td>\n",
              "      <td>Asia</td>\n",
              "    </tr>\n",
              "    <tr>\n",
              "      <th>2</th>\n",
              "      <td>11/06/2020</td>\n",
              "      <td>11</td>\n",
              "      <td>6</td>\n",
              "      <td>2020</td>\n",
              "      <td>684</td>\n",
              "      <td>21</td>\n",
              "      <td>Afghanistan</td>\n",
              "      <td>AF</td>\n",
              "      <td>AFG</td>\n",
              "      <td>37172386.0</td>\n",
              "      <td>Asia</td>\n",
              "    </tr>\n",
              "  </tbody>\n",
              "</table>\n",
              "</div>"
            ],
            "text/plain": [
              "      dateRep  day  month  ...  countryterritoryCode  popData2018  continentExp\n",
              "0  13/06/2020   13      6  ...                   AFG   37172386.0          Asia\n",
              "1  12/06/2020   12      6  ...                   AFG   37172386.0          Asia\n",
              "2  11/06/2020   11      6  ...                   AFG   37172386.0          Asia\n",
              "\n",
              "[3 rows x 11 columns]"
            ]
          },
          "metadata": {
            "tags": []
          },
          "execution_count": 5
        }
      ]
    },
    {
      "cell_type": "markdown",
      "metadata": {
        "colab_type": "text",
        "id": "yP0N2jBStUrl"
      },
      "source": [
        "### **Conectando com o Google Sheets**\n",
        "**Atenção:** para que este método funcione, é necessário publicar a tabela criada. Neste caso optamos por publicá-la como CSV, mas outros formatos também são possíveis.\n",
        "Para tornar pública uma tabela do Google, clique aqui: https://www.loom.com/share/d77baf1261df4a7eaa42f31456ebd37b"
      ]
    },
    {
      "cell_type": "code",
      "metadata": {
        "id": "E2SQifj8sZGx",
        "colab_type": "code",
        "colab": {}
      },
      "source": [
        "import pandas as pd #importando o pandas"
      ],
      "execution_count": 0,
      "outputs": []
    },
    {
      "cell_type": "code",
      "metadata": {
        "id": "Cy1VRjg2_bAq",
        "colab_type": "code",
        "colab": {}
      },
      "source": [
        "df = pd.read_csv('link_da_tabela')\n",
        "df.head() "
      ],
      "execution_count": 0,
      "outputs": []
    },
    {
      "cell_type": "markdown",
      "metadata": {
        "colab_type": "text",
        "id": "UdfKSHzk9i0A"
      },
      "source": [
        "### **Requests**\n"
      ]
    },
    {
      "cell_type": "markdown",
      "metadata": {
        "colab_type": "text",
        "id": "bElxjNZa92-Y"
      },
      "source": [
        "### **Lendo JSON**\n"
      ]
    },
    {
      "cell_type": "code",
      "metadata": {
        "id": "ZFiMobry99iR",
        "colab_type": "code",
        "colab": {}
      },
      "source": [
        "import requests\n",
        "import json"
      ],
      "execution_count": 0,
      "outputs": []
    },
    {
      "cell_type": "code",
      "metadata": {
        "id": "gHOu6IYA-HYa",
        "colab_type": "code",
        "colab": {}
      },
      "source": [
        "request = requests.get('https://www.quandl.com/api/v3/datasets/EOD/DIS.json?api_key=yhNnfdod2YkzCCJBgxx6&start_date=1970-01-01&end_date=1970-01-01')"
      ],
      "execution_count": 0,
      "outputs": []
    },
    {
      "cell_type": "code",
      "metadata": {
        "id": "wfbgH2qBBXwk",
        "colab_type": "code",
        "colab": {}
      },
      "source": [
        "req_text = request.text"
      ],
      "execution_count": 0,
      "outputs": []
    },
    {
      "cell_type": "code",
      "metadata": {
        "id": "nnvfZoQJBics",
        "colab_type": "code",
        "outputId": "9cda224d-60f9-4715-93d9-c3612ecbbdd2",
        "colab": {
          "base_uri": "https://localhost:8080/",
          "height": 34
        }
      },
      "source": [
        "data = json.loads(req_text)\n",
        "type(data)"
      ],
      "execution_count": 0,
      "outputs": [
        {
          "output_type": "execute_result",
          "data": {
            "text/plain": [
              "dict"
            ]
          },
          "metadata": {
            "tags": []
          },
          "execution_count": 23
        }
      ]
    },
    {
      "cell_type": "markdown",
      "metadata": {
        "colab_type": "text",
        "id": "btu7NW-h9kqM"
      },
      "source": [
        "### **PIL - Importando arquivos de imagem**\n"
      ]
    },
    {
      "cell_type": "code",
      "metadata": {
        "id": "QJYRJpuu3TUi",
        "colab_type": "code",
        "colab": {}
      },
      "source": [
        "from PIL import Image #importa o Pillow"
      ],
      "execution_count": 0,
      "outputs": []
    },
    {
      "cell_type": "code",
      "metadata": {
        "id": "_PFStGZs6EqC",
        "colab_type": "code",
        "colab": {}
      },
      "source": [
        "im = Image.open('caminho/para/a/imagem.formato')"
      ],
      "execution_count": 0,
      "outputs": []
    },
    {
      "cell_type": "code",
      "metadata": {
        "id": "ly1vmSCN5OoA",
        "colab_type": "code",
        "colab": {}
      },
      "source": [
        "import requests\n",
        "im = Image.open(requests.get('link.da.imagem', stream=True).raw)"
      ],
      "execution_count": 0,
      "outputs": []
    },
    {
      "cell_type": "markdown",
      "metadata": {
        "colab_type": "text",
        "id": "leAWFMOT9k00"
      },
      "source": [
        "### **Lendo arquivos de vído com OpenCV**\n"
      ]
    },
    {
      "cell_type": "code",
      "metadata": {
        "id": "fyXplnHT8GrB",
        "colab_type": "code",
        "outputId": "2e452b54-6c25-4f19-fe93-125428fe6d8a",
        "colab": {
          "base_uri": "https://localhost:8080/",
          "height": 34
        }
      },
      "source": [
        "import numpy as np\n",
        "import cv2\n",
        "\n",
        "cap = cv2.VideoCapture('C:\\\\meu_video.mp4')\n"
      ],
      "execution_count": 0,
      "outputs": [
        {
          "output_type": "execute_result",
          "data": {
            "text/plain": [
              "<VideoCapture 0x7fc871fea5d0>"
            ]
          },
          "metadata": {
            "tags": []
          },
          "execution_count": 16
        }
      ]
    }
  ]
}