{
  "nbformat": 4,
  "nbformat_minor": 0,
  "metadata": {
    "kernelspec": {
      "display_name": "Python 3",
      "language": "python",
      "name": "python3"
    },
    "language_info": {
      "codemirror_mode": {
        "name": "ipython",
        "version": 3
      },
      "file_extension": ".py",
      "mimetype": "text/x-python",
      "name": "python",
      "nbconvert_exporter": "python",
      "pygments_lexer": "ipython3",
      "version": "3.6.0"
    },
    "colab": {
      "name": "Python Cheat Notebook",
      "provenance": [],
      "collapsed_sections": []
    }
  },
  "cells": [
    {
      "cell_type": "markdown",
      "metadata": {
        "id": "NNUdH_S-r0bz",
        "colab_type": "text"
      },
      "source": [
        "![](https://i.imgur.com/YX6UATs.png)"
      ]
    },
    {
      "cell_type": "markdown",
      "metadata": {
        "id": "oozIyKenMJdY",
        "colab_type": "text"
      },
      "source": [
        "\n",
        "## **Python - Cheat notebook**\n",
        "\n",
        "\n",
        "\n",
        "**Esse notebook contém referências em Python, com comentários reduzidos**\n"
      ]
    },
    {
      "cell_type": "markdown",
      "metadata": {
        "id": "CY9Kf8FBYpYS",
        "colab_type": "text"
      },
      "source": [
        "### **Comentáros e print()**\n"
      ]
    },
    {
      "cell_type": "code",
      "metadata": {
        "id": "SPmzSVZy_QBj",
        "colab_type": "code",
        "colab": {}
      },
      "source": [
        "#Sou um comentário! Quando há texto após uma hashtag, esse texto não afeta o código."
      ],
      "execution_count": 0,
      "outputs": []
    },
    {
      "cell_type": "code",
      "metadata": {
        "id": "jAAI_Z7GY80S",
        "colab_type": "code",
        "outputId": "851aae0f-e37c-4414-dfe7-6b771f3ec676",
        "colab": {
          "base_uri": "https://localhost:8080/",
          "height": 34
        }
      },
      "source": [
        "print(\"Olá\")"
      ],
      "execution_count": 23,
      "outputs": [
        {
          "output_type": "stream",
          "text": [
            "Olá\n"
          ],
          "name": "stdout"
        }
      ]
    },
    {
      "cell_type": "markdown",
      "metadata": {
        "id": "-DsdsfCCMJdZ",
        "colab_type": "text"
      },
      "source": [
        "### **Operações com números**\n"
      ]
    },
    {
      "cell_type": "code",
      "metadata": {
        "id": "dMs9u9E4MJdb",
        "colab_type": "code",
        "outputId": "c20d756d-77ab-4efd-ee7f-70674c665f92",
        "colab": {
          "base_uri": "https://localhost:8080/",
          "height": 34
        }
      },
      "source": [
        "5 + 5 #adição"
      ],
      "execution_count": 24,
      "outputs": [
        {
          "output_type": "execute_result",
          "data": {
            "text/plain": [
              "10"
            ]
          },
          "metadata": {
            "tags": []
          },
          "execution_count": 24
        }
      ]
    },
    {
      "cell_type": "code",
      "metadata": {
        "id": "U-oLL_JmMJdh",
        "colab_type": "code",
        "outputId": "73f36749-e529-4ce0-f113-6a297081fdfd",
        "colab": {
          "base_uri": "https://localhost:8080/",
          "height": 34
        }
      },
      "source": [
        "5 * 5 #multiplicação"
      ],
      "execution_count": 25,
      "outputs": [
        {
          "output_type": "execute_result",
          "data": {
            "text/plain": [
              "25"
            ]
          },
          "metadata": {
            "tags": []
          },
          "execution_count": 25
        }
      ]
    },
    {
      "cell_type": "code",
      "metadata": {
        "id": "OTRyu_PKMJdm",
        "colab_type": "code",
        "outputId": "3257bd7b-f169-4574-c419-9938c046a499",
        "colab": {
          "base_uri": "https://localhost:8080/",
          "height": 34
        }
      },
      "source": [
        "5 / 5 #divisão"
      ],
      "execution_count": 26,
      "outputs": [
        {
          "output_type": "execute_result",
          "data": {
            "text/plain": [
              "1.0"
            ]
          },
          "metadata": {
            "tags": []
          },
          "execution_count": 26
        }
      ]
    },
    {
      "cell_type": "code",
      "metadata": {
        "id": "-R4cRpsgMJdq",
        "colab_type": "code",
        "outputId": "97fee1da-62ce-431f-8890-44b4eaa84aee",
        "colab": {
          "base_uri": "https://localhost:8080/",
          "height": 34
        }
      },
      "source": [
        "5 ** 2 #potência"
      ],
      "execution_count": 27,
      "outputs": [
        {
          "output_type": "execute_result",
          "data": {
            "text/plain": [
              "25"
            ]
          },
          "metadata": {
            "tags": []
          },
          "execution_count": 27
        }
      ]
    },
    {
      "cell_type": "code",
      "metadata": {
        "id": "X-C-_coIMJdu",
        "colab_type": "code",
        "outputId": "03e42579-1cd9-45fe-f46f-ca860879fa59",
        "colab": {
          "base_uri": "https://localhost:8080/",
          "height": 34
        }
      },
      "source": [
        "4 % 2 #resto de 4 dividido por 2"
      ],
      "execution_count": 28,
      "outputs": [
        {
          "output_type": "execute_result",
          "data": {
            "text/plain": [
              "0"
            ]
          },
          "metadata": {
            "tags": []
          },
          "execution_count": 28
        }
      ]
    },
    {
      "cell_type": "code",
      "metadata": {
        "id": "2AQvfxRQMJd1",
        "colab_type": "code",
        "outputId": "dd8be507-39cc-41c6-cbda-1d817c3e7794",
        "colab": {
          "base_uri": "https://localhost:8080/",
          "height": 34
        }
      },
      "source": [
        "5 % 2 #resto de 5 dividido por 2"
      ],
      "execution_count": 29,
      "outputs": [
        {
          "output_type": "execute_result",
          "data": {
            "text/plain": [
              "1"
            ]
          },
          "metadata": {
            "tags": []
          },
          "execution_count": 29
        }
      ]
    },
    {
      "cell_type": "code",
      "metadata": {
        "id": "emBSZ3CNMJd5",
        "colab_type": "code",
        "outputId": "50b48019-c4fb-40f8-ab56-431b2f05e79f",
        "colab": {
          "base_uri": "https://localhost:8080/",
          "height": 34
        }
      },
      "source": [
        "(5 + 5) * (5 -1) #ordem das operações"
      ],
      "execution_count": 30,
      "outputs": [
        {
          "output_type": "execute_result",
          "data": {
            "text/plain": [
              "40"
            ]
          },
          "metadata": {
            "tags": []
          },
          "execution_count": 30
        }
      ]
    },
    {
      "cell_type": "code",
      "metadata": {
        "id": "D_tTyAAnbbSv",
        "colab_type": "code",
        "outputId": "b90aeae1-7393-4017-a16e-6b5f7a2ff2ef",
        "colab": {
          "base_uri": "https://localhost:8080/",
          "height": 34
        }
      },
      "source": [
        "4/5 #numeros com casas decimais são denominados \"fluatuantes\" (float)"
      ],
      "execution_count": 31,
      "outputs": [
        {
          "output_type": "execute_result",
          "data": {
            "text/plain": [
              "0.8"
            ]
          },
          "metadata": {
            "tags": []
          },
          "execution_count": 31
        }
      ]
    },
    {
      "cell_type": "markdown",
      "metadata": {
        "id": "wC8uCqb7MJeP",
        "colab_type": "text"
      },
      "source": [
        "### **Strings (textos)**"
      ]
    },
    {
      "cell_type": "code",
      "metadata": {
        "id": "R4opMBEXMJeQ",
        "colab_type": "code",
        "outputId": "e4263f6b-942b-4dd6-8369-b0628cc99c46",
        "colab": {
          "base_uri": "https://localhost:8080/",
          "height": 34
        }
      },
      "source": [
        "'sou uma string' #pode-se criar uma string com aspas simples"
      ],
      "execution_count": 32,
      "outputs": [
        {
          "output_type": "execute_result",
          "data": {
            "text/plain": [
              "'sou uma string'"
            ]
          },
          "metadata": {
            "tags": []
          },
          "execution_count": 32
        }
      ]
    },
    {
      "cell_type": "code",
      "metadata": {
        "id": "-6i9d7ZDMJeT",
        "colab_type": "code",
        "outputId": "2a4a4be3-f003-449e-fb0e-e58f5ef9f2e3",
        "colab": {
          "base_uri": "https://localhost:8080/",
          "height": 34
        }
      },
      "source": [
        "\"também sou uma string\" #pode-se criar uma string com aspas duplas"
      ],
      "execution_count": 33,
      "outputs": [
        {
          "output_type": "execute_result",
          "data": {
            "text/plain": [
              "'também sou uma string'"
            ]
          },
          "metadata": {
            "tags": []
          },
          "execution_count": 33
        }
      ]
    },
    {
      "cell_type": "code",
      "metadata": {
        "id": "vhNXezDUMJeX",
        "colab_type": "code",
        "outputId": "9b5ac5ea-9c72-4a64-c716-d126572c01b2",
        "colab": {
          "base_uri": "https://localhost:8080/",
          "height": 34
        }
      },
      "source": [
        "\" sou uma string com 'aspas simples'\" #para usar aspas simples dentro da string, cria se a string\n",
        "                                       #entre aspas duplas."
      ],
      "execution_count": 34,
      "outputs": [
        {
          "output_type": "execute_result",
          "data": {
            "text/plain": [
              "\" sou uma string com 'aspas simples'\""
            ]
          },
          "metadata": {
            "tags": []
          },
          "execution_count": 34
        }
      ]
    },
    {
      "cell_type": "code",
      "metadata": {
        "id": "nhzoUuIeowEW",
        "colab_type": "code",
        "outputId": "05c84438-3912-407a-9a4e-f37cb43fc6fe",
        "colab": {
          "base_uri": "https://localhost:8080/",
          "height": 34
        }
      },
      "source": [
        "' sou uma string com \"aspas duplas\"' #para usar aspas duplas dentro da string, cria se a string\n",
        "                                     #entre aspas simples."
      ],
      "execution_count": 35,
      "outputs": [
        {
          "output_type": "execute_result",
          "data": {
            "text/plain": [
              "' sou uma string com \"aspas duplas\"'"
            ]
          },
          "metadata": {
            "tags": []
          },
          "execution_count": 35
        }
      ]
    },
    {
      "cell_type": "code",
      "metadata": {
        "id": "kjhuUoRxb_fn",
        "colab_type": "code",
        "outputId": "602b7633-3f29-465d-fe68-42d3466aee1a",
        "colab": {
          "base_uri": "https://localhost:8080/",
          "height": 34
        }
      },
      "source": [
        "print(\"sou uma string\".title()) # .title() faz com que a primeira letra de cada palavra fique maiúscula"
      ],
      "execution_count": 36,
      "outputs": [
        {
          "output_type": "stream",
          "text": [
            "Sou Uma String\n"
          ],
          "name": "stdout"
        }
      ]
    },
    {
      "cell_type": "code",
      "metadata": {
        "id": "ZkBLEtgqb_rD",
        "colab_type": "code",
        "outputId": "d38803ab-9675-447a-af3d-9049ed35072b",
        "colab": {
          "base_uri": "https://localhost:8080/",
          "height": 34
        }
      },
      "source": [
        "print(\"sou uma string\".lower()) # .lower() faz com que todas as letras seja minúsculas"
      ],
      "execution_count": 37,
      "outputs": [
        {
          "output_type": "stream",
          "text": [
            "sou uma string\n"
          ],
          "name": "stdout"
        }
      ]
    },
    {
      "cell_type": "code",
      "metadata": {
        "id": "pIkZj4D4b_10",
        "colab_type": "code",
        "outputId": "41be9499-1808-4d0e-a668-dc0130608a47",
        "colab": {
          "base_uri": "https://localhost:8080/",
          "height": 34
        }
      },
      "source": [
        "print(\"sou uma string\".upper()) # .upper() faz com que todas as letras seja maiúsculas"
      ],
      "execution_count": 38,
      "outputs": [
        {
          "output_type": "stream",
          "text": [
            "SOU UMA STRING\n"
          ],
          "name": "stdout"
        }
      ]
    },
    {
      "cell_type": "markdown",
      "metadata": {
        "id": "sejSX4fIMJfu",
        "colab_type": "text"
      },
      "source": [
        "### **Booleans e comparadores**"
      ]
    },
    {
      "cell_type": "code",
      "metadata": {
        "id": "wLI1heR9MJfv",
        "colab_type": "code",
        "outputId": "9958be59-1072-4f15-c162-30ffb98b0369",
        "colab": {
          "base_uri": "https://localhost:8080/",
          "height": 34
        }
      },
      "source": [
        "True #verdadeiro"
      ],
      "execution_count": 39,
      "outputs": [
        {
          "output_type": "execute_result",
          "data": {
            "text/plain": [
              "True"
            ]
          },
          "metadata": {
            "tags": []
          },
          "execution_count": 39
        }
      ]
    },
    {
      "cell_type": "code",
      "metadata": {
        "id": "EzRXa4kyMJf2",
        "colab_type": "code",
        "outputId": "e0e2272c-905d-48f3-91a3-32962d3390b3",
        "colab": {
          "base_uri": "https://localhost:8080/",
          "height": 34
        }
      },
      "source": [
        "False #falso"
      ],
      "execution_count": 40,
      "outputs": [
        {
          "output_type": "execute_result",
          "data": {
            "text/plain": [
              "False"
            ]
          },
          "metadata": {
            "tags": []
          },
          "execution_count": 40
        }
      ]
    },
    {
      "cell_type": "code",
      "metadata": {
        "id": "j9r47pWuMJgQ",
        "colab_type": "code",
        "outputId": "b24cc87c-3adc-4f26-a6e2-589f7c3aead7",
        "colab": {
          "base_uri": "https://localhost:8080/",
          "height": 34
        }
      },
      "source": [
        "1 > 2 # falso"
      ],
      "execution_count": 41,
      "outputs": [
        {
          "output_type": "execute_result",
          "data": {
            "text/plain": [
              "False"
            ]
          },
          "metadata": {
            "tags": []
          },
          "execution_count": 41
        }
      ]
    },
    {
      "cell_type": "code",
      "metadata": {
        "id": "Exf6hZXPMJgT",
        "colab_type": "code",
        "outputId": "849709e1-083c-4aaf-c82b-c8393ba4f189",
        "colab": {
          "base_uri": "https://localhost:8080/",
          "height": 34
        }
      },
      "source": [
        "1 < 2 # verdadeiro"
      ],
      "execution_count": 42,
      "outputs": [
        {
          "output_type": "execute_result",
          "data": {
            "text/plain": [
              "True"
            ]
          },
          "metadata": {
            "tags": []
          },
          "execution_count": 42
        }
      ]
    },
    {
      "cell_type": "code",
      "metadata": {
        "id": "qQQvgSemMJgW",
        "colab_type": "code",
        "outputId": "5486348e-1d74-4712-ce6c-a52fb3b82e73",
        "colab": {
          "base_uri": "https://localhost:8080/",
          "height": 34
        }
      },
      "source": [
        "10 >= 10 #maior ou igual (verdadeiro para a condição)"
      ],
      "execution_count": 43,
      "outputs": [
        {
          "output_type": "execute_result",
          "data": {
            "text/plain": [
              "True"
            ]
          },
          "metadata": {
            "tags": []
          },
          "execution_count": 43
        }
      ]
    },
    {
      "cell_type": "code",
      "metadata": {
        "id": "DXNk6MCnMJga",
        "colab_type": "code",
        "outputId": "07fe5f33-f3b8-47a8-ef14-2d8b30da116b",
        "colab": {
          "base_uri": "https://localhost:8080/",
          "height": 34
        }
      },
      "source": [
        "10 <= 40 #menor ou igual (verdadeiro para a condição)"
      ],
      "execution_count": 44,
      "outputs": [
        {
          "output_type": "execute_result",
          "data": {
            "text/plain": [
              "True"
            ]
          },
          "metadata": {
            "tags": []
          },
          "execution_count": 44
        }
      ]
    },
    {
      "cell_type": "code",
      "metadata": {
        "id": "W3hkTDlIMJgi",
        "colab_type": "code",
        "outputId": "c1a589e7-6a79-443a-fc63-f24d631d9b10",
        "colab": {
          "base_uri": "https://localhost:8080/",
          "height": 34
        }
      },
      "source": [
        "1 == 1 #verdadeiro"
      ],
      "execution_count": 45,
      "outputs": [
        {
          "output_type": "execute_result",
          "data": {
            "text/plain": [
              "True"
            ]
          },
          "metadata": {
            "tags": []
          },
          "execution_count": 45
        }
      ]
    },
    {
      "cell_type": "code",
      "metadata": {
        "id": "kBabtcPrMJgk",
        "colab_type": "code",
        "outputId": "e3e2a06b-bdf1-40e2-8902-cb283a92f152",
        "colab": {
          "base_uri": "https://localhost:8080/",
          "height": 34
        }
      },
      "source": [
        "'palavra' == 'word' #falso"
      ],
      "execution_count": 46,
      "outputs": [
        {
          "output_type": "execute_result",
          "data": {
            "text/plain": [
              "False"
            ]
          },
          "metadata": {
            "tags": []
          },
          "execution_count": 46
        }
      ]
    },
    {
      "cell_type": "code",
      "metadata": {
        "id": "1-OTp_sf1bg8",
        "colab_type": "code",
        "outputId": "a21f48e2-1945-49f2-cea1-abbbe20871bf",
        "colab": {
          "base_uri": "https://localhost:8080/",
          "height": 34
        }
      },
      "source": [
        "'palavra' == 'palavra' #verdadeiro"
      ],
      "execution_count": 47,
      "outputs": [
        {
          "output_type": "execute_result",
          "data": {
            "text/plain": [
              "True"
            ]
          },
          "metadata": {
            "tags": []
          },
          "execution_count": 47
        }
      ]
    },
    {
      "cell_type": "markdown",
      "metadata": {
        "id": "DnrlNCEyMJgo",
        "colab_type": "text"
      },
      "source": [
        "### **Conectivos**"
      ]
    },
    {
      "cell_type": "code",
      "metadata": {
        "id": "KhM26ekaMJgq",
        "colab_type": "code",
        "outputId": "8584f69f-13eb-4dc8-c23a-53a393b905e2",
        "colab": {
          "base_uri": "https://localhost:8080/",
          "height": 34
        }
      },
      "source": [
        "(50 > 100) and (100 < 300) # E (as duas condições precisam ser satisfeitas)"
      ],
      "execution_count": 48,
      "outputs": [
        {
          "output_type": "execute_result",
          "data": {
            "text/plain": [
              "False"
            ]
          },
          "metadata": {
            "tags": []
          },
          "execution_count": 48
        }
      ]
    },
    {
      "cell_type": "code",
      "metadata": {
        "id": "tpq5uYyeMJgu",
        "colab_type": "code",
        "outputId": "979ad8f9-0b5b-440e-dbe9-077252dfdc5c",
        "colab": {
          "base_uri": "https://localhost:8080/",
          "height": 34
        }
      },
      "source": [
        "(10 > 20) or (20 < 30) # OU (apenas uma das condições precisa ser satisfeita)"
      ],
      "execution_count": 49,
      "outputs": [
        {
          "output_type": "execute_result",
          "data": {
            "text/plain": [
              "True"
            ]
          },
          "metadata": {
            "tags": []
          },
          "execution_count": 49
        }
      ]
    },
    {
      "cell_type": "code",
      "metadata": {
        "id": "KW6-f_0XMJgx",
        "colab_type": "code",
        "outputId": "2d9b50c1-1580-45f7-92e6-6ac3778df7d8",
        "colab": {
          "base_uri": "https://localhost:8080/",
          "height": 34
        }
      },
      "source": [
        "(10 == 10.5) or (2 == 3) or (4 == 4)"
      ],
      "execution_count": 50,
      "outputs": [
        {
          "output_type": "execute_result",
          "data": {
            "text/plain": [
              "True"
            ]
          },
          "metadata": {
            "tags": []
          },
          "execution_count": 50
        }
      ]
    },
    {
      "cell_type": "markdown",
      "metadata": {
        "id": "zRiyR-6jMJg2",
        "colab_type": "text"
      },
      "source": [
        "### **if, elif, else**"
      ]
    },
    {
      "cell_type": "code",
      "metadata": {
        "id": "B-yc-o9wMJg3",
        "colab_type": "code",
        "outputId": "28b86ca2-b96c-4522-bf2b-3656abf28ddf",
        "colab": {
          "base_uri": "https://localhost:8080/",
          "height": 34
        }
      },
      "source": [
        "if 10 < 20: \n",
        "    print('Correto!') # condição satisfeita, o resultado será impresso"
      ],
      "execution_count": 51,
      "outputs": [
        {
          "output_type": "stream",
          "text": [
            "Correto!\n"
          ],
          "name": "stdout"
        }
      ]
    },
    {
      "cell_type": "code",
      "metadata": {
        "id": "ES-51_64MJg7",
        "colab_type": "code",
        "outputId": "f55a908c-9a11-484c-def6-33ac58331ca7",
        "colab": {
          "base_uri": "https://localhost:8080/",
          "height": 34
        }
      },
      "source": [
        "if 1 < 2:\n",
        "    print(\" Um é menor que dois!\") # condição satisfeita, o resultado será impresso"
      ],
      "execution_count": 52,
      "outputs": [
        {
          "output_type": "stream",
          "text": [
            " Um é menor que dois!\n"
          ],
          "name": "stdout"
        }
      ]
    },
    {
      "cell_type": "code",
      "metadata": {
        "id": "Lo-iia04MJg-",
        "colab_type": "code",
        "outputId": "431b7005-fd91-4ef8-a41d-4daf0613028b",
        "colab": {
          "base_uri": "https://localhost:8080/",
          "height": 34
        }
      },
      "source": [
        "if 1 < 2: \n",
        "    print('Certo') # condição satisfeita, o resultado será impresso\n",
        "else:\n",
        "    print('Errado')"
      ],
      "execution_count": 53,
      "outputs": [
        {
          "output_type": "stream",
          "text": [
            "Certo\n"
          ],
          "name": "stdout"
        }
      ]
    },
    {
      "cell_type": "code",
      "metadata": {
        "id": "2VCr1ItpMJhC",
        "colab_type": "code",
        "outputId": "82680c76-2479-4e13-8315-0d70d4a81896",
        "colab": {
          "base_uri": "https://localhost:8080/",
          "height": 34
        }
      },
      "source": [
        "if 1 > 2: \n",
        "    print('Certo') \n",
        "else:\n",
        "    print('Errado') # condição não satisfeita, o resultado do \"else\" será impresso"
      ],
      "execution_count": 54,
      "outputs": [
        {
          "output_type": "stream",
          "text": [
            "Errado\n"
          ],
          "name": "stdout"
        }
      ]
    },
    {
      "cell_type": "code",
      "metadata": {
        "id": "x5CwSRPXMJhF",
        "colab_type": "code",
        "outputId": "2e53fb09-8b7d-4918-a275-6329b8e6c4c1",
        "colab": {
          "base_uri": "https://localhost:8080/",
          "height": 34
        }
      },
      "source": [
        "if 1 == 2:\n",
        "    print('primeira condição')\n",
        "elif 3 == 3:\n",
        "    print('segunda condição')\n",
        "else:\n",
        "    print('Nenhuma das condições') # a segunda condição é verdadeira"
      ],
      "execution_count": 55,
      "outputs": [
        {
          "output_type": "stream",
          "text": [
            "segunda condição\n"
          ],
          "name": "stdout"
        }
      ]
    },
    {
      "cell_type": "markdown",
      "metadata": {
        "id": "rQbQ7tdBMJea",
        "colab_type": "text"
      },
      "source": [
        "####  **Variáveis**\n",
        "\n",
        "Você pode pensar em variáveis como palavras que armazenam um valor. Simples assim:\n",
        "\n"
      ]
    },
    {
      "cell_type": "code",
      "metadata": {
        "id": "KIQghy2tpOKu",
        "colab_type": "code",
        "colab": {}
      },
      "source": [
        "variavel = 20 # define que 20 será armazenado na palavra variável"
      ],
      "execution_count": 0,
      "outputs": []
    },
    {
      "cell_type": "code",
      "metadata": {
        "id": "7TNOdQdXpOzV",
        "colab_type": "code",
        "outputId": "de5a3f46-7431-476c-d718-a2dbfe93dd29",
        "colab": {
          "base_uri": "https://localhost:8080/",
          "height": 34
        }
      },
      "source": [
        "variavel # \"chamando\" a variável"
      ],
      "execution_count": 57,
      "outputs": [
        {
          "output_type": "execute_result",
          "data": {
            "text/plain": [
              "20"
            ]
          },
          "metadata": {
            "tags": []
          },
          "execution_count": 57
        }
      ]
    },
    {
      "cell_type": "code",
      "metadata": {
        "id": "Uep7y8qVMJeb",
        "colab_type": "code",
        "colab": {}
      },
      "source": [
        "two = 2\n",
        "palavra = 'palavra'  #definindo mais de uma variável"
      ],
      "execution_count": 0,
      "outputs": []
    },
    {
      "cell_type": "code",
      "metadata": {
        "id": "71x_mW4QMJeo",
        "colab_type": "code",
        "colab": {}
      },
      "source": [
        "idade = 25\n",
        "nome = 'John'"
      ],
      "execution_count": 0,
      "outputs": []
    },
    {
      "cell_type": "code",
      "metadata": {
        "id": "dT7DH8CyvKMj",
        "colab_type": "code",
        "outputId": "9e9be12d-0f20-4f19-ce10-bd96d237d9da",
        "colab": {
          "base_uri": "https://localhost:8080/",
          "height": 34
        }
      },
      "source": [
        "print(idade,nome) "
      ],
      "execution_count": 60,
      "outputs": [
        {
          "output_type": "stream",
          "text": [
            "25 John\n"
          ],
          "name": "stdout"
        }
      ]
    },
    {
      "cell_type": "code",
      "metadata": {
        "id": "ZH3uR_TQMJer",
        "colab_type": "code",
        "outputId": "6666aa48-e364-4d63-cea0-5ea81d921113",
        "colab": {
          "base_uri": "https://localhost:8080/",
          "height": 34
        }
      },
      "source": [
        "print('Meu nome é: {}, minha idade é: {}'.format(nome,idade)) \n",
        "# Com {} e .format() você substitui textos por variáveis:"
      ],
      "execution_count": 61,
      "outputs": [
        {
          "output_type": "stream",
          "text": [
            "Meu nome é: John, minha idade é: 25\n"
          ],
          "name": "stdout"
        }
      ]
    },
    {
      "cell_type": "markdown",
      "metadata": {
        "id": "0oldYoLiwGGc",
        "colab_type": "text"
      },
      "source": [
        "Também é possível criar variáveis a partir de valores de outras variáveis:"
      ]
    },
    {
      "cell_type": "code",
      "metadata": {
        "id": "A5TzPuBaMJeC",
        "colab_type": "code",
        "colab": {}
      },
      "source": [
        "x = 2\n",
        "y = 3"
      ],
      "execution_count": 0,
      "outputs": []
    },
    {
      "cell_type": "code",
      "metadata": {
        "id": "RuRv128rMJeG",
        "colab_type": "code",
        "colab": {}
      },
      "source": [
        "z = x + y # z é a soma de x e y, que podem ser quaisquer valores, mas nesse caso são 2 e 3."
      ],
      "execution_count": 0,
      "outputs": []
    },
    {
      "cell_type": "code",
      "metadata": {
        "id": "J51KNuBzMJeK",
        "colab_type": "code",
        "outputId": "474a24f2-99fc-4aa5-c708-f1eeffa757e0",
        "colab": {
          "base_uri": "https://localhost:8080/",
          "height": 34
        }
      },
      "source": [
        "z"
      ],
      "execution_count": 64,
      "outputs": [
        {
          "output_type": "execute_result",
          "data": {
            "text/plain": [
              "5"
            ]
          },
          "metadata": {
            "tags": []
          },
          "execution_count": 64
        }
      ]
    },
    {
      "cell_type": "markdown",
      "metadata": {
        "id": "xD8JZnuOMJey",
        "colab_type": "text"
      },
      "source": [
        "### **Listas**"
      ]
    },
    {
      "cell_type": "code",
      "metadata": {
        "id": "dni6scV4MJez",
        "colab_type": "code",
        "outputId": "5ae7e111-49f8-4fdc-93eb-c90352a2d209",
        "colab": {
          "base_uri": "https://localhost:8080/",
          "height": 34
        }
      },
      "source": [
        "[5,10,15] # listas utilizam []"
      ],
      "execution_count": 65,
      "outputs": [
        {
          "output_type": "execute_result",
          "data": {
            "text/plain": [
              "[5, 10, 15]"
            ]
          },
          "metadata": {
            "tags": []
          },
          "execution_count": 65
        }
      ]
    },
    {
      "cell_type": "code",
      "metadata": {
        "id": "FdCycOvdMJe2",
        "colab_type": "code",
        "outputId": "6d6a2e1b-0ad9-4385-d7ad-698428bd98eb",
        "colab": {
          "base_uri": "https://localhost:8080/",
          "height": 34
        }
      },
      "source": [
        "['palavras',5,(5*5),nome] # é possível armazenar diferentes tipos de dados "
      ],
      "execution_count": 66,
      "outputs": [
        {
          "output_type": "execute_result",
          "data": {
            "text/plain": [
              "['palavras', 5, 25, 'John']"
            ]
          },
          "metadata": {
            "tags": []
          },
          "execution_count": 66
        }
      ]
    },
    {
      "cell_type": "markdown",
      "metadata": {
        "id": "6fO00QWL24Ih",
        "colab_type": "text"
      },
      "source": [
        "Pode-se adicionar um item à lista:"
      ]
    },
    {
      "cell_type": "code",
      "metadata": {
        "id": "eiXsA_qrMJe4",
        "colab_type": "code",
        "colab": {}
      },
      "source": [
        "lista = ['a','b','c'] # uma variável (lista) que contem uma lista"
      ],
      "execution_count": 0,
      "outputs": []
    },
    {
      "cell_type": "code",
      "metadata": {
        "id": "Ry5uj1sTMJe7",
        "colab_type": "code",
        "colab": {}
      },
      "source": [
        "lista.append('d') #append adiciona um item à lista"
      ],
      "execution_count": 0,
      "outputs": []
    },
    {
      "cell_type": "code",
      "metadata": {
        "id": "3kzPue04MJfC",
        "colab_type": "code",
        "outputId": "aaff3953-2234-4673-d479-cd920fa688df",
        "colab": {
          "base_uri": "https://localhost:8080/",
          "height": 34
        }
      },
      "source": [
        "lista # nossa lista após o append"
      ],
      "execution_count": 69,
      "outputs": [
        {
          "output_type": "execute_result",
          "data": {
            "text/plain": [
              "['a', 'b', 'c', 'd']"
            ]
          },
          "metadata": {
            "tags": []
          },
          "execution_count": 69
        }
      ]
    },
    {
      "cell_type": "code",
      "metadata": {
        "id": "GE-4gYIjMJfF",
        "colab_type": "code",
        "outputId": "4afba65a-f3b1-4b2d-c53b-d63a8ab6422d",
        "colab": {
          "base_uri": "https://localhost:8080/",
          "height": 34
        }
      },
      "source": [
        "lista[0] #0 indexa o primeiro item da lista"
      ],
      "execution_count": 70,
      "outputs": [
        {
          "output_type": "execute_result",
          "data": {
            "text/plain": [
              "'a'"
            ]
          },
          "metadata": {
            "tags": []
          },
          "execution_count": 70
        }
      ]
    },
    {
      "cell_type": "code",
      "metadata": {
        "id": "C_SBUCCPMJfJ",
        "colab_type": "code",
        "outputId": "6ec35f29-dd77-4608-db6a-20297f539a7f",
        "colab": {
          "base_uri": "https://localhost:8080/",
          "height": 34
        }
      },
      "source": [
        "lista[1] #1 indexa o segundo item da lista"
      ],
      "execution_count": 71,
      "outputs": [
        {
          "output_type": "execute_result",
          "data": {
            "text/plain": [
              "'b'"
            ]
          },
          "metadata": {
            "tags": []
          },
          "execution_count": 71
        }
      ]
    },
    {
      "cell_type": "code",
      "metadata": {
        "id": "97nDOfuLMJfL",
        "colab_type": "code",
        "outputId": "c61d9b9e-dfcd-49ea-8f32-98cb19fb0108",
        "colab": {
          "base_uri": "https://localhost:8080/",
          "height": 34
        }
      },
      "source": [
        "lista[1:] # o que vem antes dos dois pontos é o ponto de partida da seleção. \n",
        "            #Nesse caso, seleciona-se do segundo item até o último"
      ],
      "execution_count": 72,
      "outputs": [
        {
          "output_type": "execute_result",
          "data": {
            "text/plain": [
              "['b', 'c', 'd']"
            ]
          },
          "metadata": {
            "tags": []
          },
          "execution_count": 72
        }
      ]
    },
    {
      "cell_type": "code",
      "metadata": {
        "id": "7c9XzBR0MJfO",
        "colab_type": "code",
        "outputId": "c6d2cf19-23eb-4c58-81dd-564d7bb2d978",
        "colab": {
          "base_uri": "https://localhost:8080/",
          "height": 34
        }
      },
      "source": [
        "lista[:2] # o que vem depois dos dois pontos é o ponto de chegada da seleção.\n",
        "          # Nesse caso, seleciona-se do primeiro item até o terceiro[2]"
      ],
      "execution_count": 73,
      "outputs": [
        {
          "output_type": "execute_result",
          "data": {
            "text/plain": [
              "['a', 'b']"
            ]
          },
          "metadata": {
            "tags": []
          },
          "execution_count": 73
        }
      ]
    },
    {
      "cell_type": "code",
      "metadata": {
        "id": "a6x0ktBBMJfS",
        "colab_type": "code",
        "colab": {}
      },
      "source": [
        "lista[0] = 'NEW' # substitui o elemento desjado"
      ],
      "execution_count": 0,
      "outputs": []
    },
    {
      "cell_type": "code",
      "metadata": {
        "id": "CBTodQ7pMJfV",
        "colab_type": "code",
        "outputId": "d8295494-341f-411d-cbac-0047b1632fbb",
        "colab": {
          "base_uri": "https://localhost:8080/",
          "height": 34
        }
      },
      "source": [
        "lista #lista após substituição"
      ],
      "execution_count": 75,
      "outputs": [
        {
          "output_type": "execute_result",
          "data": {
            "text/plain": [
              "['NEW', 'b', 'c', 'd']"
            ]
          },
          "metadata": {
            "tags": []
          },
          "execution_count": 75
        }
      ]
    },
    {
      "cell_type": "code",
      "metadata": {
        "id": "KZEDxkRkhyXs",
        "colab_type": "code",
        "colab": {}
      },
      "source": [
        "del lista[2] #deleta o terceiro item da lista"
      ],
      "execution_count": 0,
      "outputs": []
    },
    {
      "cell_type": "code",
      "metadata": {
        "id": "Q_yl4VtIh-I_",
        "colab_type": "code",
        "outputId": "8dc36841-2e45-4657-a1b3-86537098c0e5",
        "colab": {
          "base_uri": "https://localhost:8080/",
          "height": 34
        }
      },
      "source": [
        "lista #lista após a remoção do item"
      ],
      "execution_count": 77,
      "outputs": [
        {
          "output_type": "execute_result",
          "data": {
            "text/plain": [
              "['NEW', 'b', 'd']"
            ]
          },
          "metadata": {
            "tags": []
          },
          "execution_count": 77
        }
      ]
    },
    {
      "cell_type": "code",
      "metadata": {
        "id": "3d9uzCEadTjZ",
        "colab_type": "code",
        "outputId": "49efe4c7-27ad-4e5c-817a-6283c2018f4a",
        "colab": {
          "base_uri": "https://localhost:8080/",
          "height": 34
        }
      },
      "source": [
        "len(lista) #verifica a quantidade de itens presentes na lista."
      ],
      "execution_count": 78,
      "outputs": [
        {
          "output_type": "execute_result",
          "data": {
            "text/plain": [
              "3"
            ]
          },
          "metadata": {
            "tags": []
          },
          "execution_count": 78
        }
      ]
    },
    {
      "cell_type": "code",
      "metadata": {
        "id": "vdqNWqMzMJfY",
        "colab_type": "code",
        "colab": {}
      },
      "source": [
        "nest = [1,2,3,[4,5,['ola',\"pessoal\"]]] # É possível armazenar listas dentro de listas (nested list)\n",
        "                                       #os [] dentro da lista criam outras listas"
      ],
      "execution_count": 0,
      "outputs": []
    },
    {
      "cell_type": "code",
      "metadata": {
        "id": "pAHCyUj3MJfb",
        "colab_type": "code",
        "outputId": "7e7fe795-f884-4bd4-b944-57ce9b55143a",
        "colab": {
          "base_uri": "https://localhost:8080/",
          "height": 34
        }
      },
      "source": [
        "nest[3] # o quarto item da lista nest é também uma lista"
      ],
      "execution_count": 80,
      "outputs": [
        {
          "output_type": "execute_result",
          "data": {
            "text/plain": [
              "[4, 5, ['ola', 'pessoal']]"
            ]
          },
          "metadata": {
            "tags": []
          },
          "execution_count": 80
        }
      ]
    },
    {
      "cell_type": "code",
      "metadata": {
        "id": "sIY3LBNzMJfd",
        "colab_type": "code",
        "outputId": "5bbbd2bf-cd36-4389-d0ce-1f5df1aff95b",
        "colab": {
          "base_uri": "https://localhost:8080/",
          "height": 34
        }
      },
      "source": [
        "nest[3][2] #localiza o elemento dentro da lista armazenda na list nest"
      ],
      "execution_count": 81,
      "outputs": [
        {
          "output_type": "execute_result",
          "data": {
            "text/plain": [
              "['ola', 'pessoal']"
            ]
          },
          "metadata": {
            "tags": []
          },
          "execution_count": 81
        }
      ]
    },
    {
      "cell_type": "code",
      "metadata": {
        "id": "7O-7WSXjMJfg",
        "colab_type": "code",
        "outputId": "d3fbbac9-21a0-4990-d776-ec18942090b1",
        "colab": {
          "base_uri": "https://localhost:8080/",
          "height": 34
        }
      },
      "source": [
        "nest[3][2][0] # localiza o primeiro elemento dentro da lista que estava armazenada dentro lista nest"
      ],
      "execution_count": 82,
      "outputs": [
        {
          "output_type": "execute_result",
          "data": {
            "text/plain": [
              "'ola'"
            ]
          },
          "metadata": {
            "tags": []
          },
          "execution_count": 82
        }
      ]
    },
    {
      "cell_type": "code",
      "metadata": {
        "id": "yfAYkowThsX9",
        "colab_type": "code",
        "colab": {}
      },
      "source": [
        ""
      ],
      "execution_count": 0,
      "outputs": []
    },
    {
      "cell_type": "markdown",
      "metadata": {
        "id": "Az0HScepMJfj",
        "colab_type": "text"
      },
      "source": [
        "### **Dicionários**"
      ]
    },
    {
      "cell_type": "code",
      "metadata": {
        "id": "XfSt9X3WMJfj",
        "colab_type": "code",
        "colab": {}
      },
      "source": [
        "d = {'chave1':'item1','chave2':'item2'} # dicionários são criados com {} e possuem chaves e valores "
      ],
      "execution_count": 0,
      "outputs": []
    },
    {
      "cell_type": "code",
      "metadata": {
        "id": "LO1Iu9GWMJfm",
        "colab_type": "code",
        "outputId": "529f7dbc-4d06-4832-c962-ec008a2c75fd",
        "colab": {
          "base_uri": "https://localhost:8080/",
          "height": 34
        }
      },
      "source": [
        "d #mostrando o dicionário criado"
      ],
      "execution_count": 84,
      "outputs": [
        {
          "output_type": "execute_result",
          "data": {
            "text/plain": [
              "{'chave1': 'item1', 'chave2': 'item2'}"
            ]
          },
          "metadata": {
            "tags": []
          },
          "execution_count": 84
        }
      ]
    },
    {
      "cell_type": "code",
      "metadata": {
        "id": "ai_KQHEGMJfq",
        "colab_type": "code",
        "outputId": "78d24a35-595f-46e3-e804-d7c6d572835c",
        "colab": {
          "base_uri": "https://localhost:8080/",
          "height": 34
        }
      },
      "source": [
        "d['chave1'] # aqui, requisitamos o valor presente na chave1"
      ],
      "execution_count": 85,
      "outputs": [
        {
          "output_type": "execute_result",
          "data": {
            "text/plain": [
              "'item1'"
            ]
          },
          "metadata": {
            "tags": []
          },
          "execution_count": 85
        }
      ]
    },
    {
      "cell_type": "code",
      "metadata": {
        "id": "xrlF1d3WciwB",
        "colab_type": "code",
        "colab": {}
      },
      "source": [
        "d['chave3']=\"item3\" # é também possível adicionar chaves e valores ao dicionário, como no exemplo."
      ],
      "execution_count": 0,
      "outputs": []
    },
    {
      "cell_type": "code",
      "metadata": {
        "id": "0n-MrX4Gcn8I",
        "colab_type": "code",
        "outputId": "e1ac7f17-b7be-489b-833b-35d8ad294c29",
        "colab": {
          "base_uri": "https://localhost:8080/",
          "height": 34
        }
      },
      "source": [
        "d # o dicionário após a adição da chave3"
      ],
      "execution_count": 87,
      "outputs": [
        {
          "output_type": "execute_result",
          "data": {
            "text/plain": [
              "{'chave1': 'item1', 'chave2': 'item2', 'chave3': 'item3'}"
            ]
          },
          "metadata": {
            "tags": []
          },
          "execution_count": 87
        }
      ]
    },
    {
      "cell_type": "markdown",
      "metadata": {
        "id": "cIby1Z0WMJf7",
        "colab_type": "text"
      },
      "source": [
        "### **Tuplas** "
      ]
    },
    {
      "cell_type": "code",
      "metadata": {
        "id": "T_bKaI_kMJf8",
        "colab_type": "code",
        "colab": {}
      },
      "source": [
        "t = (1,2,3) #tuplas são criadas com () e são imutáveis"
      ],
      "execution_count": 0,
      "outputs": []
    },
    {
      "cell_type": "code",
      "metadata": {
        "id": "zbW0xfmYMJgA",
        "colab_type": "code",
        "outputId": "8b22f6a0-f657-4d34-beca-bb0a25daf8b7",
        "colab": {
          "base_uri": "https://localhost:8080/",
          "height": 34
        }
      },
      "source": [
        "t[0]"
      ],
      "execution_count": 89,
      "outputs": [
        {
          "output_type": "execute_result",
          "data": {
            "text/plain": [
              "1"
            ]
          },
          "metadata": {
            "tags": []
          },
          "execution_count": 89
        }
      ]
    },
    {
      "cell_type": "code",
      "metadata": {
        "id": "upZe6fNvMJgD",
        "colab_type": "code",
        "outputId": "fe6df41a-5b02-467e-c427-2dd0e8fc26ac",
        "colab": {
          "base_uri": "https://localhost:8080/",
          "height": 168
        }
      },
      "source": [
        "t[0] = 'NOVA' # não é possível alterá-la, por isso um erro ocorrerá!"
      ],
      "execution_count": 91,
      "outputs": [
        {
          "output_type": "error",
          "ename": "TypeError",
          "evalue": "ignored",
          "traceback": [
            "\u001b[0;31m---------------------------------------------------------------------------\u001b[0m",
            "\u001b[0;31mTypeError\u001b[0m                                 Traceback (most recent call last)",
            "\u001b[0;32m<ipython-input-91-f21d1083cc30>\u001b[0m in \u001b[0;36m<module>\u001b[0;34m()\u001b[0m\n\u001b[0;32m----> 1\u001b[0;31m \u001b[0mt\u001b[0m\u001b[0;34m[\u001b[0m\u001b[0;36m0\u001b[0m\u001b[0;34m]\u001b[0m \u001b[0;34m=\u001b[0m \u001b[0;34m'NOVA'\u001b[0m \u001b[0;31m# não é possível alterá-la, por isso um erro ocorrerá!\u001b[0m\u001b[0;34m\u001b[0m\u001b[0;34m\u001b[0m\u001b[0m\n\u001b[0m",
            "\u001b[0;31mTypeError\u001b[0m: 'tuple' object does not support item assignment"
          ]
        }
      ]
    },
    {
      "cell_type": "markdown",
      "metadata": {
        "id": "1s8Cwhm_MJhI",
        "colab_type": "text"
      },
      "source": [
        "### Loops - **for**:"
      ]
    },
    {
      "cell_type": "code",
      "metadata": {
        "id": "gqjoo4oNMJhJ",
        "colab_type": "code",
        "colab": {}
      },
      "source": [
        "minha_lista = [1,2,3,4,5,\"olá\",'mundo'] # criando uma nova lista com números inteiros e palavras"
      ],
      "execution_count": 0,
      "outputs": []
    },
    {
      "cell_type": "code",
      "metadata": {
        "id": "2R0DenYKMJhL",
        "colab_type": "code",
        "outputId": "8ba9353b-c00a-47f7-b490-260568e32d55",
        "colab": {
          "base_uri": "https://localhost:8080/",
          "height": 141
        }
      },
      "source": [
        "for item in minha_lista: # neste for loop, é solicitado que cada item presente na\n",
        "    print(item)          # lista criada seja impresso."
      ],
      "execution_count": 93,
      "outputs": [
        {
          "output_type": "stream",
          "text": [
            "1\n",
            "2\n",
            "3\n",
            "4\n",
            "5\n",
            "olá\n",
            "mundo\n"
          ],
          "name": "stdout"
        }
      ]
    },
    {
      "cell_type": "code",
      "metadata": {
        "id": "UL9h8SwfMJhN",
        "colab_type": "code",
        "outputId": "a313a2bc-1b3f-45ef-e125-158c2c012e1e",
        "colab": {
          "base_uri": "https://localhost:8080/",
          "height": 141
        }
      },
      "source": [
        "for item in minha_lista: # neste for loop, para cada item da lista reconhecido,\n",
        "    print('Looping')       # é solicitado que imprima a palavra \"Looping\" "
      ],
      "execution_count": 94,
      "outputs": [
        {
          "output_type": "stream",
          "text": [
            "Looping\n",
            "Looping\n",
            "Looping\n",
            "Looping\n",
            "Looping\n",
            "Looping\n",
            "Looping\n"
          ],
          "name": "stdout"
        }
      ]
    },
    {
      "cell_type": "code",
      "metadata": {
        "id": "Vf74xOtzMJhP",
        "colab_type": "code",
        "outputId": "b6c2ba4c-9675-4f61-9331-19243b0a9bea",
        "colab": {
          "base_uri": "https://localhost:8080/",
          "height": 141
        }
      },
      "source": [
        "for i in minha_lista: #neste for loop, é solicitado que cada elemento da lista seja multiplicado por 2.\n",
        "    print(2*i)        # É importante perceber a diferença entre o comportamento do operador com números e strings."
      ],
      "execution_count": 95,
      "outputs": [
        {
          "output_type": "stream",
          "text": [
            "2\n",
            "4\n",
            "6\n",
            "8\n",
            "10\n",
            "oláolá\n",
            "mundomundo\n"
          ],
          "name": "stdout"
        }
      ]
    },
    {
      "cell_type": "markdown",
      "metadata": {
        "id": "7QfmmBNBMJhS",
        "colab_type": "text"
      },
      "source": [
        "### Loops - **while**"
      ]
    },
    {
      "cell_type": "code",
      "metadata": {
        "id": "LiC2dgQ9MJhS",
        "colab_type": "code",
        "outputId": "71ebf21a-3ae7-448f-976d-1f2980148579",
        "colab": {
          "base_uri": "https://localhost:8080/",
          "height": 87
        }
      },
      "source": [
        "i = 1\n",
        "while i < 5:                     #enquanto a condição solicitada for verdadeira (i menor que 5)\n",
        "    print('i is: {}'.format(i))  # o loop será executado.\n",
        "    i = i+1"
      ],
      "execution_count": 96,
      "outputs": [
        {
          "output_type": "stream",
          "text": [
            "i is: 1\n",
            "i is: 2\n",
            "i is: 3\n",
            "i is: 4\n"
          ],
          "name": "stdout"
        }
      ]
    },
    {
      "cell_type": "code",
      "metadata": {
        "id": "FIlL1ymcgtVI",
        "colab_type": "code",
        "outputId": "aa75ddf7-b733-4496-bfbc-c9f835117939",
        "colab": {
          "base_uri": "https://localhost:8080/",
          "height": 87
        }
      },
      "source": [
        "i = 3\n",
        "while i < 7:                     #enquanto a condição solicitada for verdadeira (i menor que 7)\n",
        "    print('i is: {}'.format(i))  # o loop será executado.\n",
        "    i = i+1                      #o i é atualizado ao fim do loop"
      ],
      "execution_count": 97,
      "outputs": [
        {
          "output_type": "stream",
          "text": [
            "i is: 3\n",
            "i is: 4\n",
            "i is: 5\n",
            "i is: 6\n"
          ],
          "name": "stdout"
        }
      ]
    },
    {
      "cell_type": "markdown",
      "metadata": {
        "id": "DyCaByo-MJhU",
        "colab_type": "text"
      },
      "source": [
        "### **range()**"
      ]
    },
    {
      "cell_type": "code",
      "metadata": {
        "id": "BQ2ZagpZMJhV",
        "colab_type": "code",
        "outputId": "263061aa-3885-4bc4-a6bc-b77b6f3ad866",
        "colab": {
          "base_uri": "https://localhost:8080/",
          "height": 34
        }
      },
      "source": [
        "range(0,5) #define um intervalo"
      ],
      "execution_count": 98,
      "outputs": [
        {
          "output_type": "execute_result",
          "data": {
            "text/plain": [
              "range(0, 5)"
            ]
          },
          "metadata": {
            "tags": []
          },
          "execution_count": 98
        }
      ]
    },
    {
      "cell_type": "code",
      "metadata": {
        "id": "1h4ehNTUMJhW",
        "colab_type": "code",
        "outputId": "d5611554-c5e3-4a5b-9378-3c82e1e5149a",
        "colab": {
          "base_uri": "https://localhost:8080/",
          "height": 105
        }
      },
      "source": [
        "for i in range(0,5):       # define que o loop será executado enquanto i estiver dentro do range\n",
        "    print(\"O número é: {} \".format(i))"
      ],
      "execution_count": 99,
      "outputs": [
        {
          "output_type": "stream",
          "text": [
            "O número é: 0 \n",
            "O número é: 1 \n",
            "O número é: 2 \n",
            "O número é: 3 \n",
            "O número é: 4 \n"
          ],
          "name": "stdout"
        }
      ]
    },
    {
      "cell_type": "code",
      "metadata": {
        "id": "9wU_7ecFMJhY",
        "colab_type": "code",
        "outputId": "bd7d607c-c3cb-4416-8fea-d9c2c4a39927",
        "colab": {
          "base_uri": "https://localhost:8080/",
          "height": 34
        }
      },
      "source": [
        "list(range(2,7)) # transforma o range em uma lista de valores"
      ],
      "execution_count": 100,
      "outputs": [
        {
          "output_type": "execute_result",
          "data": {
            "text/plain": [
              "[2, 3, 4, 5, 6]"
            ]
          },
          "metadata": {
            "tags": []
          },
          "execution_count": 100
        }
      ]
    },
    {
      "cell_type": "markdown",
      "metadata": {
        "id": "InUGZvl7MJhd",
        "colab_type": "text"
      },
      "source": [
        "### **List comprehension**"
      ]
    },
    {
      "cell_type": "code",
      "metadata": {
        "id": "OjjrLQfKMJhd",
        "colab_type": "code",
        "colab": {}
      },
      "source": [
        "x = [1,2,3,4] #cria uma nova lista"
      ],
      "execution_count": 0,
      "outputs": []
    },
    {
      "cell_type": "code",
      "metadata": {
        "id": "1shJxeUUMJhg",
        "colab_type": "code",
        "outputId": "153cb391-9cb9-4713-ddf9-7b689f9a1de4",
        "colab": {
          "base_uri": "https://localhost:8080/",
          "height": 34
        }
      },
      "source": [
        "out = []           #aqui é criado um loop para elevar os elementos da lista x à\n",
        "for item in x:     # potencia de 2.\n",
        "    out.append(item**2)\n",
        "print(out)"
      ],
      "execution_count": 102,
      "outputs": [
        {
          "output_type": "stream",
          "text": [
            "[1, 4, 9, 16]\n"
          ],
          "name": "stdout"
        }
      ]
    },
    {
      "cell_type": "code",
      "metadata": {
        "id": "8HKUDbqLMJhj",
        "colab_type": "code",
        "outputId": "86cb0c7e-85da-48b1-e762-fe6c23386f75",
        "colab": {
          "base_uri": "https://localhost:8080/",
          "height": 34
        }
      },
      "source": [
        "[item**2 for item in x] #aqui temos uma forma pythonica de realizar a mesma tarefa, com apenas uma \n",
        "                        #linha de código"
      ],
      "execution_count": 103,
      "outputs": [
        {
          "output_type": "execute_result",
          "data": {
            "text/plain": [
              "[1, 4, 9, 16]"
            ]
          },
          "metadata": {
            "tags": []
          },
          "execution_count": 103
        }
      ]
    },
    {
      "cell_type": "markdown",
      "metadata": {
        "id": "YfLOy6HzMJhm",
        "colab_type": "text"
      },
      "source": [
        "### **Funções**\n",
        "\n"
      ]
    },
    {
      "cell_type": "code",
      "metadata": {
        "id": "pZtSMKunMJhm",
        "colab_type": "code",
        "colab": {}
      },
      "source": [
        "def my_func(frase): #def é a palvra usada para criar a função. Após isso, vem o nome da função\n",
        "  print(frase)      #e dentro do parêntese vêm os parâmetros. Nessa caso, criamos uma função que vai\n",
        "                    #imprimir a frase que desejarmos.\n",
        "    "
      ],
      "execution_count": 0,
      "outputs": []
    },
    {
      "cell_type": "code",
      "metadata": {
        "id": "kgrLpWH3MJhp",
        "colab_type": "code",
        "outputId": "3e8f1d0e-9a8a-4fca-ae8e-397ac5d72aed",
        "colab": {
          "base_uri": "https://localhost:8080/",
          "height": 34
        }
      },
      "source": [
        "my_func(\"Olá mundo\") #A frase é \"Olá mundo\""
      ],
      "execution_count": 105,
      "outputs": [
        {
          "output_type": "stream",
          "text": [
            "Olá mundo\n"
          ],
          "name": "stdout"
        }
      ]
    },
    {
      "cell_type": "code",
      "metadata": {
        "id": "Qujaq-SJMJhu",
        "colab_type": "code",
        "outputId": "5ff6690b-40a8-4d61-82e4-95c0139fd80e",
        "colab": {
          "base_uri": "https://localhost:8080/",
          "height": 34
        }
      },
      "source": [
        "my_func(\"Estou no curso de Data Science\") #Com uma segunda frase"
      ],
      "execution_count": 106,
      "outputs": [
        {
          "output_type": "stream",
          "text": [
            "Estou no curso de Data Science\n"
          ],
          "name": "stdout"
        }
      ]
    },
    {
      "cell_type": "code",
      "metadata": {
        "id": "tKuU_oIIMJh3",
        "colab_type": "code",
        "colab": {}
      },
      "source": [
        "def multiplicar_por_2(x): #Nesse caso, criamos uma função que multiplica por 2.\n",
        "    return x*2"
      ],
      "execution_count": 0,
      "outputs": []
    },
    {
      "cell_type": "code",
      "metadata": {
        "id": "k1USI3KdMJh5",
        "colab_type": "code",
        "colab": {}
      },
      "source": [
        "resultado = multiplicar_por_2(5) #Aplicando a função no número "
      ],
      "execution_count": 0,
      "outputs": []
    },
    {
      "cell_type": "code",
      "metadata": {
        "scrolled": true,
        "id": "JQbCyIK6MJh6",
        "colab_type": "code",
        "outputId": "ff0c4fae-e793-4df6-f3a6-70bab9a8c919",
        "colab": {
          "base_uri": "https://localhost:8080/",
          "height": 34
        }
      },
      "source": [
        "resultado"
      ],
      "execution_count": 109,
      "outputs": [
        {
          "output_type": "execute_result",
          "data": {
            "text/plain": [
              "10"
            ]
          },
          "metadata": {
            "tags": []
          },
          "execution_count": 109
        }
      ]
    },
    {
      "cell_type": "code",
      "metadata": {
        "id": "GY7dVEYOfYj4",
        "colab_type": "code",
        "outputId": "25376cd8-73ea-4a66-92be-ae93498fb455",
        "colab": {
          "base_uri": "https://localhost:8080/",
          "height": 34
        }
      },
      "source": [
        "mult_palavra = multiplicar_por_2('Olá ') #Pode-se aplicar com strings também, mas o comportamento é outro.\n",
        "mult_palavra"
      ],
      "execution_count": 110,
      "outputs": [
        {
          "output_type": "execute_result",
          "data": {
            "text/plain": [
              "'Olá Olá '"
            ]
          },
          "metadata": {
            "tags": []
          },
          "execution_count": 110
        }
      ]
    },
    {
      "cell_type": "code",
      "metadata": {
        "id": "5Qp5VYKlfYry",
        "colab_type": "code",
        "colab": {}
      },
      "source": [
        "def funcao_mais_complexa(x,y,z): #x,y,z são os parâmetros\n",
        "  soma = x+y+z                   #a função cria a variável soma\n",
        "  mult = x*y*z                   #a função cria a variável mult\n",
        "  print(\"A soma de x, y e z é: \", soma)           #a função imprime o solicitado\n",
        "  print(\"A multiplicação de x, y e z é: \", mult)\n"
      ],
      "execution_count": 0,
      "outputs": []
    },
    {
      "cell_type": "code",
      "metadata": {
        "id": "Fh74C_BafYpL",
        "colab_type": "code",
        "outputId": "b2022583-0b29-4311-8e68-b508311bcaf8",
        "colab": {
          "base_uri": "https://localhost:8080/",
          "height": 52
        }
      },
      "source": [
        "funcao_mais_complexa(5,2,3)"
      ],
      "execution_count": 112,
      "outputs": [
        {
          "output_type": "stream",
          "text": [
            "A soma de x, y e z é:  10\n",
            "A multiplicação de x, y e z é:  30\n"
          ],
          "name": "stdout"
        }
      ]
    },
    {
      "cell_type": "markdown",
      "metadata": {
        "id": "c0bcuBGIuzeU",
        "colab_type": "text"
      },
      "source": [
        "### **Classes e métodos**\n",
        "\n"
      ]
    },
    {
      "cell_type": "code",
      "metadata": {
        "id": "CPFWiTrJuwcy",
        "colab_type": "code",
        "colab": {}
      },
      "source": [
        "class Pessoa: #cria a classe\n",
        "  def __init__(self,nome,idade,profissao): #inicia a classe\n",
        "    self.nome=nome    #define atributos\n",
        "    self.idade=idade\n",
        "    self.profissao=profissao\n",
        "\n",
        "  def historico(self): #cria um método, uma função específica da classe criada\n",
        "    print(\"O objeto {} possui {} anos e é {}!\".format(self.nome,self.idade,self.profissao))"
      ],
      "execution_count": 0,
      "outputs": []
    },
    {
      "cell_type": "code",
      "metadata": {
        "id": "1hRqo5Lbvwiz",
        "colab_type": "code",
        "colab": {}
      },
      "source": [
        "lutador = Pessoa(\"João\",150,\"lutador\")          #cria uma instância da classe Pessoa\n",
        "jornalista = Pessoa(\"Joana\",235,\"jornalista\")"
      ],
      "execution_count": 0,
      "outputs": []
    },
    {
      "cell_type": "code",
      "metadata": {
        "id": "wndYTsjwwBTM",
        "colab_type": "code",
        "colab": {
          "base_uri": "https://localhost:8080/",
          "height": 34
        },
        "outputId": "ce0484f0-335b-426c-c3c0-8923c0b68446"
      },
      "source": [
        "lutador.idade #mostra um dos atributos da classe"
      ],
      "execution_count": 115,
      "outputs": [
        {
          "output_type": "execute_result",
          "data": {
            "text/plain": [
              "150"
            ]
          },
          "metadata": {
            "tags": []
          },
          "execution_count": 115
        }
      ]
    },
    {
      "cell_type": "code",
      "metadata": {
        "id": "LbwlYgYawbY-",
        "colab_type": "code",
        "colab": {
          "base_uri": "https://localhost:8080/",
          "height": 34
        },
        "outputId": "2ad5b802-c77e-4bb6-edd5-3f6edc958640"
      },
      "source": [
        "lutador.historico() #aplica o método \"histórico\" a uma das instâncias criadas"
      ],
      "execution_count": 116,
      "outputs": [
        {
          "output_type": "stream",
          "text": [
            "O objeto João possui 150 anos e é lutador!\n"
          ],
          "name": "stdout"
        }
      ]
    },
    {
      "cell_type": "code",
      "metadata": {
        "id": "w77NmnrPw-O2",
        "colab_type": "code",
        "colab": {
          "base_uri": "https://localhost:8080/",
          "height": 34
        },
        "outputId": "9a007571-2a00-46ab-e23f-80a267c1c327"
      },
      "source": [
        "jornalista.historico() #aplica o método \"histórico\" a uma das instâncias criadas"
      ],
      "execution_count": 117,
      "outputs": [
        {
          "output_type": "stream",
          "text": [
            "O objeto Joana possui 235 anos e é jornalista!\n"
          ],
          "name": "stdout"
        }
      ]
    },
    {
      "cell_type": "markdown",
      "metadata": {
        "id": "tBZ_r3laMJjC",
        "colab_type": "text"
      },
      "source": [
        "![](https://i.imgur.com/YX6UATs.png)"
      ]
    }
  ]
}
